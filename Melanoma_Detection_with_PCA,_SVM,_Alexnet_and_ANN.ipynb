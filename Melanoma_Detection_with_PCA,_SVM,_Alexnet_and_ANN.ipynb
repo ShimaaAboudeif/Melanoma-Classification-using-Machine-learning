{
  "cells": [
    {
      "cell_type": "markdown",
      "source": [
        "##Importing the libararies"
      ],
      "metadata": {
        "id": "lxNisPdUoE1f"
      }
    },
    {
      "cell_type": "code",
      "execution_count": 20,
      "metadata": {
        "id": "0VvX3QMbtIKp"
      },
      "outputs": [],
      "source": [
        "from mpl_toolkits.mplot3d import Axes3D\n",
        "from sklearn.preprocessing import StandardScaler\n",
        "import matplotlib.pyplot as plt # plotting\n",
        "import numpy as np\n",
        "import os # accessing directory structure\n",
        "import pandas as pd # data processing, Excel file I/O (e.g. pd.read_Excel)\n",
        "from PIL import Image\n",
        "from skimage.color import rgb2gray\n",
        "from sklearn.decomposition import PCA\n",
        "from sklearn.metrics import accuracy_score\n",
        "from sklearn.model_selection import train_test_split\n",
        "from sklearn.svm import SVC"
      ]
    },
    {
      "cell_type": "markdown",
      "source": [
        "##Importing the dataset"
      ],
      "metadata": {
        "id": "Y0S8ka7toRl6"
      }
    },
    {
      "cell_type": "markdown",
      "source": [
        "The dermoscopic images were obtained at the Dermatology Service of Hospital Pedro Hispano (Matosinhos, Portugal) under the same conditions through Tuebinger Mole Analyzer system using a magnification of 20x. They are 8-bit RGB color images with a resolution of 768x560 pixels.\n",
        "\n",
        "This image database contains a total of 200 dermoscopic images of melanocytic lesions, including 80 common nevi, 80 atypical nevi, and 40 melanomas. The PH² database includes medical annotation of all the images namely medical segmentation of the lesion, clinical and histological diagnosis and the assessment of several dermoscopic criteria (colors; pigment network; dots/globules; streaks; regression areas; blue-whitish veil).\n",
        "\n",
        "The assessment of each parameter was performed by an expert dermatologist"
      ],
      "metadata": {
        "id": "GEDMwZ_VG_oQ"
      }
    },
    {
      "cell_type": "code",
      "source": [
        "from google.colab import drive\n",
        "drive.mount('/content/drive')"
      ],
      "metadata": {
        "colab": {
          "base_uri": "https://localhost:8080/"
        },
        "id": "Xtt-wcGKuJkM",
        "outputId": "f2a99c38-c813-489b-dba6-8de2b77feb96"
      },
      "execution_count": 21,
      "outputs": [
        {
          "output_type": "stream",
          "name": "stdout",
          "text": [
            "Drive already mounted at /content/drive; to attempt to forcibly remount, call drive.mount(\"/content/drive\", force_remount=True).\n"
          ]
        }
      ]
    },
    {
      "cell_type": "code",
      "source": [
        "!pip install rarfile"
      ],
      "metadata": {
        "colab": {
          "base_uri": "https://localhost:8080/"
        },
        "id": "3nGDJ62juBuV",
        "outputId": "7811f13f-76da-4186-e957-913c988ec7d6"
      },
      "execution_count": 22,
      "outputs": [
        {
          "output_type": "stream",
          "name": "stdout",
          "text": [
            "Requirement already satisfied: rarfile in /usr/local/lib/python3.10/dist-packages (4.1)\n"
          ]
        }
      ]
    },
    {
      "cell_type": "code",
      "source": [],
      "metadata": {
        "id": "IlgsOqQWoWEm"
      },
      "execution_count": null,
      "outputs": []
    },
    {
      "cell_type": "markdown",
      "source": [
        "###Extracting the data"
      ],
      "metadata": {
        "id": "g0J1wvBApAF4"
      }
    },
    {
      "cell_type": "code",
      "source": [
        "import rarfile\n",
        "\n",
        "def extract_rar(file_path, output_path='.'):\n",
        "    with rarfile.RarFile(file_path, 'r') as rar:\n",
        "        # Extract all files in the RAR archive to the specified output path\n",
        "        rar.extractall(output_path)\n",
        "\n",
        "\n",
        "rar_file_path = '/content/drive/MyDrive/Melanoma Dataset/PH2Dataset.rar'\n",
        "# rar_file_path = ' Melanoma Dataset/PH2Dataset.rar'\n",
        "output_directory = 'content'\n",
        "\n",
        "extract_rar(rar_file_path, output_directory)\n"
      ],
      "metadata": {
        "id": "McefOW-4vDXs"
      },
      "execution_count": 23,
      "outputs": []
    },
    {
      "cell_type": "markdown",
      "source": [
        "###Create a list of image data"
      ],
      "metadata": {
        "id": "TA83OiPIpHN_"
      }
    },
    {
      "cell_type": "code",
      "execution_count": 24,
      "metadata": {
        "id": "mMzf2D_UtIKv"
      },
      "outputs": [],
      "source": [
        "dataset=[]\n",
        "for dirname, _, filenames in os.walk('/content/content/PH2Dataset/PH2 Dataset images'):\n",
        "    for filename in filenames:\n",
        "        image = Image.open(os.path.join(dirname, filename))\n",
        "        image=image.resize((575, 765))\n",
        "        image= np.asarray(image)\n",
        "        if (len(image.shape) == 3):\n",
        "            dataset.append(rgb2gray(image))\n",
        "\n"
      ]
    },
    {
      "cell_type": "code",
      "source": [
        "import matplotlib.pyplot as plt\n",
        "img_array = dataset[4]\n",
        "plt.imshow(img_array, cmap='gray')  # Use 'cmap' according to your image type (e.g., 'gray' for grayscale)\n",
        "plt.show()"
      ],
      "metadata": {
        "id": "8QqfmH-5n_mt",
        "outputId": "b0b2a1f8-cc3c-47c9-b314-6d7d192c4f99",
        "colab": {
          "base_uri": "https://localhost:8080/",
          "height": 435
        }
      },
      "execution_count": 44,
      "outputs": [
        {
          "output_type": "display_data",
          "data": {
            "text/plain": [
              "<Figure size 640x480 with 1 Axes>"
            ],
            "image/png": "[encoded data removed]"
          },
          "metadata": {}
        }
      ]
    },
    {
      "cell_type": "markdown",
      "source": [
        "###Create the data labels list"
      ],
      "metadata": {
        "id": "oz48eR4gpNMK"
      }
    },
    {
      "cell_type": "code",
      "execution_count": 25,
      "metadata": {
        "colab": {
          "base_uri": "https://localhost:8080/"
        },
        "id": "4AAHZ-mTtIKw",
        "outputId": "c2c90dd8-7eb1-4c1e-9055-7d3f1d0a161e"
      },
      "outputs": [
        {
          "output_type": "execute_result",
          "data": {
            "text/plain": [
              "200"
            ]
          },
          "metadata": {},
          "execution_count": 25
        }
      ],
      "source": [
        "df = pd.read_excel('/content/content/PH2Dataset/PH2_dataset.xlsx')[12:]\n",
        "len(df)"
      ]
    },
    {
      "cell_type": "code",
      "execution_count": 26,
      "metadata": {
        "id": "2gL5tdOmtIKx"
      },
      "outputs": [],
      "source": [
        "labels=[]\n",
        "for i in range(0,200):\n",
        "    if (np.asarray(df)[i][4]=='X'):\n",
        "        labels.append(1)\n",
        "    else:\n",
        "        labels.append(0)\n",
        "labels=np.asarray(labels)"
      ]
    },
    {
      "cell_type": "markdown",
      "source": [
        "##Flatten the images of the dataset"
      ],
      "metadata": {
        "id": "-aQ65nTppYQK"
      }
    },
    {
      "cell_type": "code",
      "execution_count": 27,
      "metadata": {
        "id": "8_488Dw5tIKy"
      },
      "outputs": [],
      "source": [
        "dataset_flat=[]\n",
        "for i in range(len(dataset)):\n",
        "    dataset_flat.append(np.asarray(dataset[i]).flatten())\n",
        "dataset_flat=np.asarray(dataset_flat)"
      ]
    },
    {
      "cell_type": "markdown",
      "source": [
        "#Create SVM Model with train-to-test raito of 75/25\n",
        "#Use the first 10 PCA components\n",
        "#Kernel is rbf"
      ],
      "metadata": {
        "id": "CEudXFSDpebl"
      }
    },
    {
      "cell_type": "code",
      "execution_count": 28,
      "metadata": {
        "id": "67JFjj6wtIKy"
      },
      "outputs": [],
      "source": [
        "def SVMTrain(dataset_flat,labels,components):\n",
        "    PCA_Model=PCA(n_components=components)\n",
        "    X_Train_PCA=PCA_Model.fit_transform(dataset_flat)\n",
        "    X_train, X_test, y_train, y_test = train_test_split(X_Train_PCA, labels, test_size = 0.25, random_state = 0)\n",
        "    classifier = SVC(kernel = 'rbf', random_state = 0)\n",
        "    classifier.fit(X_train, y_train)\n",
        "    y_pred = classifier.predict(X_test)\n",
        "    test_accuracy=accuracy_score(y_test,y_pred)\n",
        "    y_pred_train = classifier.predict(X_train)\n",
        "    train_accuracy=accuracy_score(y_train,y_pred_train)\n",
        "    return components,train_accuracy,test_accuracy"
      ]
    },
    {
      "cell_type": "markdown",
      "source": [
        "##Train the model and print the accuracy, training accuracy is 0.79, testing accuracy is 0.82 at 10 PCA Components"
      ],
      "metadata": {
        "id": "9R3wZ2rVp32t"
      }
    },
    {
      "cell_type": "code",
      "execution_count": 29,
      "metadata": {
        "colab": {
          "base_uri": "https://localhost:8080/"
        },
        "id": "m5gWBI5ttIKz",
        "outputId": "a6e1f3e6-8781-4113-8c74-242673101262"
      },
      "outputs": [
        {
          "output_type": "stream",
          "name": "stdout",
          "text": [
            "Training Accuracy= 0.7933333333333333,Testing Accuracy= 0.82 at 10 PCA Components\n"
          ]
        }
      ],
      "source": [
        "PCA_ComponentsNumber,TrainAccuracy,TestAccuracy=SVMTrain(dataset_flat,labels,10)\n",
        "print(f\"Training Accuracy= {TrainAccuracy},Testing Accuracy= {TestAccuracy} at {PCA_ComponentsNumber} PCA Components\")"
      ]
    },
    {
      "cell_type": "markdown",
      "source": [
        "#Creating AlexNet Model"
      ],
      "metadata": {
        "id": "toAiLQnUqvPv"
      }
    },
    {
      "cell_type": "code",
      "source": [
        "import tensorflow as tf\n",
        "import keras\n",
        "from keras.models import Sequential,Model\n",
        "from keras.layers import Dense, Dropout, Flatten,Input\n",
        "from keras.layers import Conv2D, MaxPooling2D\n",
        "from tensorflow.keras import activations\n",
        "from tensorflow import keras\n",
        "import keras.layers as layers\n",
        "model = keras.Sequential()\n",
        "model.add(layers.Conv2D(filters=96, kernel_size=(11, 11),\n",
        "                        strides=(4, 4), activation=\"relu\",\n",
        "                        input_shape=(227, 227, 1)))\n",
        "model.add(layers.BatchNormalization())\n",
        "model.add(layers.MaxPool2D(pool_size=(3, 3), strides= (2, 2)))\n",
        "model.add(layers.Conv2D(filters=256, kernel_size=(5, 5),\n",
        "                        strides=(1, 1), activation=\"relu\",\n",
        "                        padding=\"same\"))\n",
        "model.add(layers.BatchNormalization())\n",
        "model.add(layers.MaxPool2D(pool_size=(3, 3), strides=(2, 2)))\n",
        "model.add(layers.Conv2D(filters=384, kernel_size=(3, 3),\n",
        "                        strides=(1, 1), activation=\"relu\",\n",
        "                        padding=\"same\"))\n",
        "model.add(layers.BatchNormalization())\n",
        "model.add(layers.Conv2D(filters=384, kernel_size=(3, 3),\n",
        "                        strides=(1, 1), activation=\"relu\",\n",
        "                        padding=\"same\"))\n",
        "model.add(layers.BatchNormalization())\n",
        "model.add(layers.Conv2D(filters=256, kernel_size=(3, 3),\n",
        "                        strides=(1, 1), activation=\"relu\",\n",
        "                        padding=\"same\"))\n",
        "model.add(layers.BatchNormalization())\n",
        "model.add(layers.MaxPool2D(pool_size=(3, 3), strides=(2, 2)))\n",
        "model.add(layers.Flatten())\n",
        "model.add(layers.Dense(4096, activation=\"relu\"))\n",
        "model.add(layers.Dropout(0.5))\n",
        "model.add(layers.Dense(1, activation=\"sigmoid\"))\n",
        "model.compile(loss='binary_crossentropy',\n",
        "              optimizer=tf.optimizers.SGD(lr=0.001),\n",
        "              metrics=['accuracy'])\n",
        "model.summary()"
      ],
      "metadata": {
        "colab": {
          "base_uri": "https://localhost:8080/"
        },
        "id": "ZuqcWqrFxUtE",
        "outputId": "6bc276cb-8ed1-4e8c-d5e9-f55116e44131"
      },
      "execution_count": 30,
      "outputs": [
        {
          "output_type": "stream",
          "name": "stderr",
          "text": [
            "WARNING:absl:`lr` is deprecated in Keras optimizer, please use `learning_rate` or use the legacy optimizer, e.g.,tf.keras.optimizers.legacy.SGD.\n"
          ]
        },
        {
          "output_type": "stream",
          "name": "stdout",
          "text": [
            "Model: \"sequential_1\"\n",
            "_________________________________________________________________\n",
            " Layer (type)                Output Shape              Param #   \n",
            "=================================================================\n",
            " conv2d_5 (Conv2D)           (None, 55, 55, 96)        11712     \n",
            "                                                                 \n",
            " batch_normalization_5 (Bat  (None, 55, 55, 96)        384       \n",
            " chNormalization)                                                \n",
            "                                                                 \n",
            " max_pooling2d_3 (MaxPoolin  (None, 27, 27, 96)        0         \n",
            " g2D)                                                            \n",
            "                                                                 \n",
            " conv2d_6 (Conv2D)           (None, 27, 27, 256)       614656    \n",
            "                                                                 \n",
            " batch_normalization_6 (Bat  (None, 27, 27, 256)       1024      \n",
            " chNormalization)                                                \n",
            "                                                                 \n",
            " max_pooling2d_4 (MaxPoolin  (None, 13, 13, 256)       0         \n",
            " g2D)                                                            \n",
            "                                                                 \n",
            " conv2d_7 (Conv2D)           (None, 13, 13, 384)       885120    \n",
            "                                                                 \n",
            " batch_normalization_7 (Bat  (None, 13, 13, 384)       1536      \n",
            " chNormalization)                                                \n",
            "                                                                 \n",
            " conv2d_8 (Conv2D)           (None, 13, 13, 384)       1327488   \n",
            "                                                                 \n",
            " batch_normalization_8 (Bat  (None, 13, 13, 384)       1536      \n",
            " chNormalization)                                                \n",
            "                                                                 \n",
            " conv2d_9 (Conv2D)           (None, 13, 13, 256)       884992    \n",
            "                                                                 \n",
            " batch_normalization_9 (Bat  (None, 13, 13, 256)       1024      \n",
            " chNormalization)                                                \n",
            "                                                                 \n",
            " max_pooling2d_5 (MaxPoolin  (None, 6, 6, 256)         0         \n",
            " g2D)                                                            \n",
            "                                                                 \n",
            " flatten_1 (Flatten)         (None, 9216)              0         \n",
            "                                                                 \n",
            " dense_2 (Dense)             (None, 4096)              37752832  \n",
            "                                                                 \n",
            " dropout_1 (Dropout)         (None, 4096)              0         \n",
            "                                                                 \n",
            " dense_3 (Dense)             (None, 1)                 4097      \n",
            "                                                                 \n",
            "=================================================================\n",
            "Total params: 41486401 (158.26 MB)\n",
            "Trainable params: 41483649 (158.25 MB)\n",
            "Non-trainable params: 2752 (10.75 KB)\n",
            "_________________________________________________________________\n"
          ]
        }
      ]
    },
    {
      "cell_type": "code",
      "source": [
        "# df = pd.read_excel('/content/content/PH2Dataset/PH2_dataset.xlsx')[12:]\n",
        "# labels=[]\n",
        "# for i in range(0,200):\n",
        "#     if (np.asarray(df)[i][4]=='X'):\n",
        "#         labels.append(1)\n",
        "#     else:\n",
        "#         labels.append(0)\n",
        "# labels=np.asarray(labels)"
      ],
      "metadata": {
        "id": "xtGW8x-FxivN"
      },
      "execution_count": 31,
      "outputs": []
    },
    {
      "cell_type": "markdown",
      "source": [
        "##Resize the images to (227,227) to be input to AlexNet Model"
      ],
      "metadata": {
        "id": "P9ESs4qs2k8d"
      }
    },
    {
      "cell_type": "code",
      "source": [
        "dataset=[]\n",
        "for dirname, _, filenames in os.walk('/content/content/PH2Dataset/PH2 Dataset images'):\n",
        "    for filename in filenames:\n",
        "        image = Image.open(os.path.join(dirname, filename))\n",
        "        image=image.resize((227, 227))\n",
        "        image= np.asarray(image)\n",
        "        if (len(image.shape) == 3):\n",
        "            dataset.append(rgb2gray(image))\n",
        "dataset[0].shape"
      ],
      "metadata": {
        "colab": {
          "base_uri": "https://localhost:8080/"
        },
        "id": "PFF0YlWnyBDW",
        "outputId": "686f9b2c-1632-4979-ff1c-08e430ebbcc2"
      },
      "execution_count": 32,
      "outputs": [
        {
          "output_type": "execute_result",
          "data": {
            "text/plain": [
              "(227, 227)"
            ]
          },
          "metadata": {},
          "execution_count": 32
        }
      ]
    },
    {
      "cell_type": "markdown",
      "source": [
        "#Convert to np arrays"
      ],
      "metadata": {
        "id": "SZn1LFGi22Lv"
      }
    },
    {
      "cell_type": "code",
      "source": [
        "dataset=np.asarray(dataset)\n",
        "labels=np.asarray(labels)"
      ],
      "metadata": {
        "id": "DQt2JRyTxj-2"
      },
      "execution_count": 33,
      "outputs": []
    },
    {
      "cell_type": "markdown",
      "source": [
        "##Split the data to training/ testing/ validation at ratios 80/10/10"
      ],
      "metadata": {
        "id": "QWofdvU82_SA"
      }
    },
    {
      "cell_type": "code",
      "source": [
        "from sklearn.model_selection import train_test_split\n",
        "X_train, X_test, y_train, y_test = train_test_split(dataset, labels, test_size = 0.20, random_state = 0)\n",
        "X_valid, X_verif, y_valid, y_verif = train_test_split(X_test, y_test, test_size = 0.50, random_state = 0)"
      ],
      "metadata": {
        "id": "uVC5HsA-xpt4"
      },
      "execution_count": 34,
      "outputs": []
    },
    {
      "cell_type": "code",
      "source": [
        "model.fit(X_train,y_train,epochs=50)\n"
      ],
      "metadata": {
        "colab": {
          "base_uri": "https://localhost:8080/"
        },
        "id": "iAJduBOKxsVU",
        "outputId": "4cfc2907-e661-49cb-d1c4-344d4ad5261d"
      },
      "execution_count": 35,
      "outputs": [
        {
          "output_type": "stream",
          "name": "stdout",
          "text": [
            "Epoch 1/50\n",
            "5/5 [==============================] - 31s 5s/step - loss: 6.2393 - accuracy: 0.6750\n",
            "Epoch 2/50\n",
            "5/5 [==============================] - 28s 6s/step - loss: 3.0431 - accuracy: 0.7500\n",
            "Epoch 3/50\n",
            "5/5 [==============================] - 29s 6s/step - loss: 2.4115 - accuracy: 0.6562\n",
            "Epoch 4/50\n",
            "5/5 [==============================] - 28s 5s/step - loss: 1.0139 - accuracy: 0.7688\n",
            "Epoch 5/50\n",
            "5/5 [==============================] - 28s 6s/step - loss: 0.9262 - accuracy: 0.8062\n",
            "Epoch 6/50\n",
            "5/5 [==============================] - 26s 5s/step - loss: 0.5395 - accuracy: 0.8000\n",
            "Epoch 7/50\n",
            "5/5 [==============================] - 29s 6s/step - loss: 0.7339 - accuracy: 0.8000\n",
            "Epoch 8/50\n",
            "5/5 [==============================] - 26s 5s/step - loss: 1.0018 - accuracy: 0.7875\n",
            "Epoch 9/50\n",
            "5/5 [==============================] - 46s 9s/step - loss: 0.7054 - accuracy: 0.8000\n",
            "Epoch 10/50\n",
            "5/5 [==============================] - 38s 8s/step - loss: 0.3294 - accuracy: 0.8687\n",
            "Epoch 11/50\n",
            "5/5 [==============================] - 39s 7s/step - loss: 0.3181 - accuracy: 0.8687\n",
            "Epoch 12/50\n",
            "5/5 [==============================] - 34s 6s/step - loss: 0.2578 - accuracy: 0.9187\n",
            "Epoch 13/50\n",
            "5/5 [==============================] - 27s 5s/step - loss: 0.7040 - accuracy: 0.8125\n",
            "Epoch 14/50\n",
            "5/5 [==============================] - 29s 6s/step - loss: 0.2042 - accuracy: 0.8875\n",
            "Epoch 15/50\n",
            "5/5 [==============================] - 26s 5s/step - loss: 0.2192 - accuracy: 0.9312\n",
            "Epoch 16/50\n",
            "5/5 [==============================] - 40s 8s/step - loss: 0.2878 - accuracy: 0.8562\n",
            "Epoch 17/50\n",
            "5/5 [==============================] - 35s 7s/step - loss: 0.1590 - accuracy: 0.9500\n",
            "Epoch 18/50\n",
            "5/5 [==============================] - 49s 10s/step - loss: 0.1452 - accuracy: 0.9312\n",
            "Epoch 19/50\n",
            "5/5 [==============================] - 48s 10s/step - loss: 0.1393 - accuracy: 0.9500\n",
            "Epoch 20/50\n",
            "5/5 [==============================] - 34s 7s/step - loss: 0.1004 - accuracy: 0.9688\n",
            "Epoch 21/50\n",
            "5/5 [==============================] - 36s 7s/step - loss: 0.0770 - accuracy: 0.9937\n",
            "Epoch 22/50\n",
            "5/5 [==============================] - 42s 9s/step - loss: 0.0788 - accuracy: 0.9875\n",
            "Epoch 23/50\n",
            "5/5 [==============================] - 27s 5s/step - loss: 0.0844 - accuracy: 0.9812\n",
            "Epoch 24/50\n",
            "5/5 [==============================] - 30s 6s/step - loss: 0.0615 - accuracy: 0.9750\n",
            "Epoch 25/50\n",
            "5/5 [==============================] - 38s 8s/step - loss: 0.0394 - accuracy: 1.0000\n",
            "Epoch 26/50\n",
            "5/5 [==============================] - 37s 8s/step - loss: 0.0502 - accuracy: 0.9937\n",
            "Epoch 27/50\n",
            "5/5 [==============================] - 35s 7s/step - loss: 0.0336 - accuracy: 0.9937\n",
            "Epoch 28/50\n",
            "5/5 [==============================] - 40s 8s/step - loss: 0.0894 - accuracy: 0.9750\n",
            "Epoch 29/50\n",
            "5/5 [==============================] - 31s 6s/step - loss: 0.0369 - accuracy: 0.9937\n",
            "Epoch 30/50\n",
            "5/5 [==============================] - 31s 6s/step - loss: 0.0726 - accuracy: 0.9812\n",
            "Epoch 31/50\n",
            "5/5 [==============================] - 27s 6s/step - loss: 0.0381 - accuracy: 0.9937\n",
            "Epoch 32/50\n",
            "5/5 [==============================] - 25s 5s/step - loss: 0.0394 - accuracy: 0.9937\n",
            "Epoch 33/50\n",
            "5/5 [==============================] - 27s 5s/step - loss: 0.0584 - accuracy: 0.9875\n",
            "Epoch 34/50\n",
            "5/5 [==============================] - 27s 6s/step - loss: 0.0583 - accuracy: 0.9812\n",
            "Epoch 35/50\n",
            "5/5 [==============================] - 28s 5s/step - loss: 0.0223 - accuracy: 1.0000\n",
            "Epoch 36/50\n",
            "5/5 [==============================] - 26s 5s/step - loss: 0.0216 - accuracy: 1.0000\n",
            "Epoch 37/50\n",
            "5/5 [==============================] - 27s 5s/step - loss: 0.0354 - accuracy: 0.9937\n",
            "Epoch 38/50\n",
            "5/5 [==============================] - 27s 6s/step - loss: 0.0222 - accuracy: 0.9937\n",
            "Epoch 39/50\n",
            "5/5 [==============================] - 25s 5s/step - loss: 0.0314 - accuracy: 0.9937\n",
            "Epoch 40/50\n",
            "5/5 [==============================] - 27s 5s/step - loss: 0.0201 - accuracy: 0.9937\n",
            "Epoch 41/50\n",
            "5/5 [==============================] - 25s 5s/step - loss: 0.0221 - accuracy: 1.0000\n",
            "Epoch 42/50\n",
            "5/5 [==============================] - 28s 5s/step - loss: 0.0334 - accuracy: 0.9875\n",
            "Epoch 43/50\n",
            "5/5 [==============================] - 26s 5s/step - loss: 0.0369 - accuracy: 1.0000\n",
            "Epoch 44/50\n",
            "5/5 [==============================] - 27s 5s/step - loss: 0.0701 - accuracy: 0.9750\n",
            "Epoch 45/50\n",
            "5/5 [==============================] - 26s 5s/step - loss: 0.0214 - accuracy: 1.0000\n",
            "Epoch 46/50\n",
            "5/5 [==============================] - 27s 5s/step - loss: 0.0166 - accuracy: 0.9937\n",
            "Epoch 47/50\n",
            "5/5 [==============================] - 27s 6s/step - loss: 0.0426 - accuracy: 0.9937\n",
            "Epoch 48/50\n",
            "5/5 [==============================] - 26s 5s/step - loss: 0.0135 - accuracy: 1.0000\n",
            "Epoch 49/50\n",
            "5/5 [==============================] - 27s 6s/step - loss: 0.0130 - accuracy: 1.0000\n",
            "Epoch 50/50\n",
            "5/5 [==============================] - 26s 5s/step - loss: 0.0189 - accuracy: 1.0000\n"
          ]
        },
        {
          "output_type": "execute_result",
          "data": {
            "text/plain": [
              "<keras.src.callbacks.History at 0x7895bc8997e0>"
            ]
          },
          "metadata": {},
          "execution_count": 35
        }
      ]
    },
    {
      "cell_type": "code",
      "source": [
        "prediction_train= np.around(model.predict(X_train)).reshape(160).astype(int)\n"
      ],
      "metadata": {
        "colab": {
          "base_uri": "https://localhost:8080/"
        },
        "id": "ch1jn93ExvTU",
        "outputId": "bfdbd2ed-9634-4ed2-cbef-f63c33d65182"
      },
      "execution_count": 36,
      "outputs": [
        {
          "output_type": "stream",
          "name": "stdout",
          "text": [
            "5/5 [==============================] - 8s 2s/step\n"
          ]
        }
      ]
    },
    {
      "cell_type": "code",
      "source": [
        "prediction_valid= np.around(model.predict(X_valid)).reshape(20).astype(int)\n"
      ],
      "metadata": {
        "id": "2SsYlH8jHAQi",
        "outputId": "60ed272b-b891-4b93-9abd-f6627701af08",
        "colab": {
          "base_uri": "https://localhost:8080/"
        }
      },
      "execution_count": 37,
      "outputs": [
        {
          "output_type": "stream",
          "name": "stdout",
          "text": [
            "1/1 [==============================] - 1s 904ms/step\n"
          ]
        }
      ]
    },
    {
      "cell_type": "markdown",
      "source": [
        "##Finding Training, Testing and validation accuracy"
      ],
      "metadata": {
        "id": "tD9EdtlF4XUU"
      }
    },
    {
      "cell_type": "code",
      "source": [
        "accuracy_train=0\n",
        "for i in range(len(prediction_train)):\n",
        "    if y_train[i]== prediction_train[i]:\n",
        "        accuracy_train+=1\n",
        "accuracy_train=accuracy_train/len(prediction_train)"
      ],
      "metadata": {
        "id": "Nrn9L6IeHCGY"
      },
      "execution_count": 38,
      "outputs": []
    },
    {
      "cell_type": "code",
      "source": [
        "accuracy_valid=0\n",
        "for i in range(len(prediction_valid)):\n",
        "    if y_valid[i]== int(round(prediction_valid[i])):\n",
        "        accuracy_valid+=1\n",
        "accuracy_valid=accuracy_valid/len(prediction_valid)\n",
        "print(f\"accuracy of training set is {accuracy_train}\")\n",
        "print(f\"accuracy of validation set is {accuracy_valid}\")"
      ],
      "metadata": {
        "id": "7Mf3dx70HENl",
        "outputId": "19df6745-9cb7-4002-ab0d-3ba826481cad",
        "colab": {
          "base_uri": "https://localhost:8080/"
        }
      },
      "execution_count": 39,
      "outputs": [
        {
          "output_type": "stream",
          "name": "stdout",
          "text": [
            "accuracy of training set is 0.65625\n",
            "accuracy of validation set is 0.55\n"
          ]
        }
      ]
    },
    {
      "cell_type": "code",
      "source": [
        "prediction_verif= np.around(model.predict(X_verif)).reshape(20).astype(int)\n",
        "accuracy_verif=0\n",
        "for i in range(len(prediction_verif)):\n",
        "    if y_verif[i]== prediction_verif[i]:\n",
        "        accuracy_verif+=1\n",
        "accuracy_verif=accuracy_verif/len(prediction_verif)\n",
        "print(f\"accuracy of verification set is {accuracy_verif}\")"
      ],
      "metadata": {
        "id": "xG2kfCsHHG08",
        "outputId": "4a3ee30a-9ddc-4c5b-f347-4ae5751527fc",
        "colab": {
          "base_uri": "https://localhost:8080/"
        }
      },
      "execution_count": 40,
      "outputs": [
        {
          "output_type": "stream",
          "name": "stdout",
          "text": [
            "1/1 [==============================] - 1s 770ms/step\n",
            "accuracy of verification set is 0.6\n"
          ]
        }
      ]
    },
    {
      "cell_type": "markdown",
      "source": [
        "#Artificial Neural Network"
      ],
      "metadata": {
        "id": "EB-IsbJY5INf"
      }
    },
    {
      "cell_type": "markdown",
      "source": [
        "##Neccesary imports"
      ],
      "metadata": {
        "id": "E9SQMx8U5PYF"
      }
    },
    {
      "cell_type": "code",
      "source": [
        "from mpl_toolkits.mplot3d import Axes3D\n",
        "from sklearn.preprocessing import StandardScaler\n",
        "import matplotlib.pyplot as plt # plotting\n",
        "import numpy as np # linear algebra\n",
        "import os # accessing directory structure\n",
        "import pandas as pd # data processing, CSV file I/O (e.g. pd.read_csv)\n",
        "from PIL import Image\n",
        "from skimage.color import rgb2gray\n",
        "from sklearn.decomposition import PCA\n",
        "from sklearn.metrics import accuracy_score\n",
        "from sklearn.model_selection import train_test_split\n",
        "from sklearn.svm import SVC\n",
        "from tensorflow.keras.models import Sequential\n",
        "from tensorflow.keras.layers import Dense\n",
        "import tensorflow as tf\n"
      ],
      "metadata": {
        "id": "6xnNb3NZHOmv"
      },
      "execution_count": 45,
      "outputs": []
    },
    {
      "cell_type": "markdown",
      "source": [
        "Reload the original dataset"
      ],
      "metadata": {
        "id": "ZRQBeKOp5Y4P"
      }
    },
    {
      "cell_type": "code",
      "source": [
        "dataset=[]\n",
        "for dirname, _, filenames in os.walk('/content/content/PH2Dataset/PH2 Dataset images'):\n",
        "    for filename in filenames:\n",
        "        image = Image.open(os.path.join(dirname, filename))\n",
        "        image=image.resize((575, 765))\n",
        "        image= np.asarray(image)\n",
        "        if (len(image.shape) == 3):\n",
        "            dataset.append(rgb2gray(image))"
      ],
      "metadata": {
        "id": "8-lyLysH5Sln"
      },
      "execution_count": 46,
      "outputs": []
    },
    {
      "cell_type": "markdown",
      "source": [
        "##Flatten the dataset again"
      ],
      "metadata": {
        "id": "fSIFqDbf5piu"
      }
    },
    {
      "cell_type": "code",
      "source": [
        "dataset_flat=[]\n",
        "for i in range(len(dataset)):\n",
        "    dataset_flat.append(np.asarray(dataset[i]).flatten())\n",
        "dataset_flat=np.asarray(dataset_flat)"
      ],
      "metadata": {
        "id": "gR8s-USy5aN1"
      },
      "execution_count": 47,
      "outputs": []
    },
    {
      "cell_type": "markdown",
      "source": [
        "##Create the ANN"
      ],
      "metadata": {
        "id": "h91ud6dpHODQ"
      }
    },
    {
      "cell_type": "code",
      "source": [
        "model= Sequential(\n",
        "    [\n",
        "        Dense(15,activation='relu', kernel_regularizer=tf.keras.regularizers.L2(0.1)),\n",
        "        Dense(10,activation='relu',  kernel_regularizer=tf.keras.regularizers.L2(0.1)),\n",
        "        Dense(1,activation='sigmoid',  kernel_regularizer=tf.keras.regularizers.L2(0.1))\n",
        "    ],name='my_model'\n",
        ")"
      ],
      "metadata": {
        "id": "_7dHetgR5r2N"
      },
      "execution_count": 48,
      "outputs": []
    },
    {
      "cell_type": "code",
      "source": [
        "model.compile(\n",
        "    loss=tf.keras.losses.BinaryCrossentropy(),\n",
        "    optimizer=tf.keras.optimizers.Adam(0.001),\n",
        ")\n",
        "PCA_Model=PCA(n_components=10)\n",
        "X_Train_PCA=PCA_Model.fit_transform(dataset_flat)\n",
        "X_train, X_test, y_train, y_test = train_test_split(X_Train_PCA, labels, test_size = 0.25, random_state = 0)\n",
        "model.fit(X_train,y_train,epochs=500)"
      ],
      "metadata": {
        "id": "sBy-Oayw5vnL",
        "outputId": "4a14a8c7-54b9-48d9-fbcc-e0740a99f42f",
        "colab": {
          "base_uri": "https://localhost:8080/"
        }
      },
      "execution_count": 49,
      "outputs": [
        {
          "output_type": "stream",
          "name": "stdout",
          "text": [
            "Epoch 1/500\n",
            "5/5 [==============================] - 2s 5ms/step - loss: 6.5584\n",
            "Epoch 2/500\n",
            "5/5 [==============================] - 0s 4ms/step - loss: 5.8971\n",
            "Epoch 3/500\n",
            "5/5 [==============================] - 0s 4ms/step - loss: 5.3563\n",
            "Epoch 4/500\n",
            "5/5 [==============================] - 0s 4ms/step - loss: 4.9676\n",
            "Epoch 5/500\n",
            "5/5 [==============================] - 0s 5ms/step - loss: 4.6648\n",
            "Epoch 6/500\n",
            "5/5 [==============================] - 0s 4ms/step - loss: 4.4780\n",
            "Epoch 7/500\n",
            "5/5 [==============================] - 0s 4ms/step - loss: 4.2780\n",
            "Epoch 8/500\n",
            "5/5 [==============================] - 0s 5ms/step - loss: 4.1409\n",
            "Epoch 9/500\n",
            "5/5 [==============================] - 0s 4ms/step - loss: 4.0159\n",
            "Epoch 10/500\n",
            "5/5 [==============================] - 0s 4ms/step - loss: 3.9046\n",
            "Epoch 11/500\n",
            "5/5 [==============================] - 0s 4ms/step - loss: 3.7807\n",
            "Epoch 12/500\n",
            "5/5 [==============================] - 0s 4ms/step - loss: 3.6848\n",
            "Epoch 13/500\n",
            "5/5 [==============================] - 0s 5ms/step - loss: 3.5815\n",
            "Epoch 14/500\n",
            "5/5 [==============================] - 0s 5ms/step - loss: 3.4940\n",
            "Epoch 15/500\n",
            "5/5 [==============================] - 0s 4ms/step - loss: 3.4042\n",
            "Epoch 16/500\n",
            "5/5 [==============================] - 0s 4ms/step - loss: 3.3271\n",
            "Epoch 17/500\n",
            "5/5 [==============================] - 0s 4ms/step - loss: 3.2559\n",
            "Epoch 18/500\n",
            "5/5 [==============================] - 0s 4ms/step - loss: 3.1934\n",
            "Epoch 19/500\n",
            "5/5 [==============================] - 0s 4ms/step - loss: 3.1236\n",
            "Epoch 20/500\n",
            "5/5 [==============================] - 0s 4ms/step - loss: 3.0648\n",
            "Epoch 21/500\n",
            "5/5 [==============================] - 0s 4ms/step - loss: 3.0042\n",
            "Epoch 22/500\n",
            "5/5 [==============================] - 0s 5ms/step - loss: 2.9481\n",
            "Epoch 23/500\n",
            "5/5 [==============================] - 0s 4ms/step - loss: 2.9010\n",
            "Epoch 24/500\n",
            "5/5 [==============================] - 0s 5ms/step - loss: 2.8527\n",
            "Epoch 25/500\n",
            "5/5 [==============================] - 0s 4ms/step - loss: 2.8022\n",
            "Epoch 26/500\n",
            "5/5 [==============================] - 0s 4ms/step - loss: 2.7556\n",
            "Epoch 27/500\n",
            "5/5 [==============================] - 0s 4ms/step - loss: 2.7127\n",
            "Epoch 28/500\n",
            "5/5 [==============================] - 0s 4ms/step - loss: 2.6727\n",
            "Epoch 29/500\n",
            "5/5 [==============================] - 0s 7ms/step - loss: 2.6345\n",
            "Epoch 30/500\n",
            "5/5 [==============================] - 0s 6ms/step - loss: 2.5964\n",
            "Epoch 31/500\n",
            "5/5 [==============================] - 0s 5ms/step - loss: 2.5629\n",
            "Epoch 32/500\n",
            "5/5 [==============================] - 0s 5ms/step - loss: 2.5288\n",
            "Epoch 33/500\n",
            "5/5 [==============================] - 0s 3ms/step - loss: 2.4961\n",
            "Epoch 34/500\n",
            "5/5 [==============================] - 0s 4ms/step - loss: 2.4632\n",
            "Epoch 35/500\n",
            "5/5 [==============================] - 0s 5ms/step - loss: 2.4306\n",
            "Epoch 36/500\n",
            "5/5 [==============================] - 0s 4ms/step - loss: 2.4009\n",
            "Epoch 37/500\n",
            "5/5 [==============================] - 0s 4ms/step - loss: 2.3754\n",
            "Epoch 38/500\n",
            "5/5 [==============================] - 0s 4ms/step - loss: 2.3467\n",
            "Epoch 39/500\n",
            "5/5 [==============================] - 0s 4ms/step - loss: 2.3209\n",
            "Epoch 40/500\n",
            "5/5 [==============================] - 0s 4ms/step - loss: 2.2922\n",
            "Epoch 41/500\n",
            "5/5 [==============================] - 0s 5ms/step - loss: 2.2674\n",
            "Epoch 42/500\n",
            "5/5 [==============================] - 0s 4ms/step - loss: 2.2445\n",
            "Epoch 43/500\n",
            "5/5 [==============================] - 0s 4ms/step - loss: 2.2201\n",
            "Epoch 44/500\n",
            "5/5 [==============================] - 0s 4ms/step - loss: 2.1980\n",
            "Epoch 45/500\n",
            "5/5 [==============================] - 0s 4ms/step - loss: 2.1731\n",
            "Epoch 46/500\n",
            "5/5 [==============================] - 0s 4ms/step - loss: 2.1515\n",
            "Epoch 47/500\n",
            "5/5 [==============================] - 0s 3ms/step - loss: 2.1287\n",
            "Epoch 48/500\n",
            "5/5 [==============================] - 0s 4ms/step - loss: 2.1073\n",
            "Epoch 49/500\n",
            "5/5 [==============================] - 0s 4ms/step - loss: 2.0886\n",
            "Epoch 50/500\n",
            "5/5 [==============================] - 0s 5ms/step - loss: 2.0658\n",
            "Epoch 51/500\n",
            "5/5 [==============================] - 0s 4ms/step - loss: 2.0465\n",
            "Epoch 52/500\n",
            "5/5 [==============================] - 0s 4ms/step - loss: 2.0259\n",
            "Epoch 53/500\n",
            "5/5 [==============================] - 0s 4ms/step - loss: 2.0102\n",
            "Epoch 54/500\n",
            "5/5 [==============================] - 0s 4ms/step - loss: 1.9889\n",
            "Epoch 55/500\n",
            "5/5 [==============================] - 0s 5ms/step - loss: 1.9691\n",
            "Epoch 56/500\n",
            "5/5 [==============================] - 0s 4ms/step - loss: 1.9513\n",
            "Epoch 57/500\n",
            "5/5 [==============================] - 0s 4ms/step - loss: 1.9325\n",
            "Epoch 58/500\n",
            "5/5 [==============================] - 0s 4ms/step - loss: 1.9161\n",
            "Epoch 59/500\n",
            "5/5 [==============================] - 0s 4ms/step - loss: 1.9001\n",
            "Epoch 60/500\n",
            "5/5 [==============================] - 0s 5ms/step - loss: 1.8825\n",
            "Epoch 61/500\n",
            "5/5 [==============================] - 0s 4ms/step - loss: 1.8659\n",
            "Epoch 62/500\n",
            "5/5 [==============================] - 0s 5ms/step - loss: 1.8496\n",
            "Epoch 63/500\n",
            "5/5 [==============================] - 0s 4ms/step - loss: 1.8346\n",
            "Epoch 64/500\n",
            "5/5 [==============================] - 0s 4ms/step - loss: 1.8180\n",
            "Epoch 65/500\n",
            "5/5 [==============================] - 0s 4ms/step - loss: 1.8033\n",
            "Epoch 66/500\n",
            "5/5 [==============================] - 0s 4ms/step - loss: 1.7885\n",
            "Epoch 67/500\n",
            "5/5 [==============================] - 0s 4ms/step - loss: 1.7740\n",
            "Epoch 68/500\n",
            "5/5 [==============================] - 0s 3ms/step - loss: 1.7595\n",
            "Epoch 69/500\n",
            "5/5 [==============================] - 0s 4ms/step - loss: 1.7457\n",
            "Epoch 70/500\n",
            "5/5 [==============================] - 0s 5ms/step - loss: 1.7324\n",
            "Epoch 71/500\n",
            "5/5 [==============================] - 0s 5ms/step - loss: 1.7196\n",
            "Epoch 72/500\n",
            "5/5 [==============================] - 0s 4ms/step - loss: 1.7052\n",
            "Epoch 73/500\n",
            "5/5 [==============================] - 0s 4ms/step - loss: 1.6914\n",
            "Epoch 74/500\n",
            "5/5 [==============================] - 0s 4ms/step - loss: 1.6793\n",
            "Epoch 75/500\n",
            "5/5 [==============================] - 0s 4ms/step - loss: 1.6662\n",
            "Epoch 76/500\n",
            "5/5 [==============================] - 0s 5ms/step - loss: 1.6533\n",
            "Epoch 77/500\n",
            "5/5 [==============================] - 0s 4ms/step - loss: 1.6412\n",
            "Epoch 78/500\n",
            "5/5 [==============================] - 0s 4ms/step - loss: 1.6278\n",
            "Epoch 79/500\n",
            "5/5 [==============================] - 0s 4ms/step - loss: 1.6165\n",
            "Epoch 80/500\n",
            "5/5 [==============================] - 0s 5ms/step - loss: 1.6057\n",
            "Epoch 81/500\n",
            "5/5 [==============================] - 0s 4ms/step - loss: 1.5927\n",
            "Epoch 82/500\n",
            "5/5 [==============================] - 0s 4ms/step - loss: 1.5821\n",
            "Epoch 83/500\n",
            "5/5 [==============================] - 0s 4ms/step - loss: 1.5698\n",
            "Epoch 84/500\n",
            "5/5 [==============================] - 0s 4ms/step - loss: 1.5595\n",
            "Epoch 85/500\n",
            "5/5 [==============================] - 0s 5ms/step - loss: 1.5484\n",
            "Epoch 86/500\n",
            "5/5 [==============================] - 0s 4ms/step - loss: 1.5368\n",
            "Epoch 87/500\n",
            "5/5 [==============================] - 0s 4ms/step - loss: 1.5263\n",
            "Epoch 88/500\n",
            "5/5 [==============================] - 0s 4ms/step - loss: 1.5146\n",
            "Epoch 89/500\n",
            "5/5 [==============================] - 0s 5ms/step - loss: 1.5038\n",
            "Epoch 90/500\n",
            "5/5 [==============================] - 0s 4ms/step - loss: 1.4950\n",
            "Epoch 91/500\n",
            "5/5 [==============================] - 0s 4ms/step - loss: 1.4833\n",
            "Epoch 92/500\n",
            "5/5 [==============================] - 0s 4ms/step - loss: 1.4729\n",
            "Epoch 93/500\n",
            "5/5 [==============================] - 0s 4ms/step - loss: 1.4632\n",
            "Epoch 94/500\n",
            "5/5 [==============================] - 0s 4ms/step - loss: 1.4516\n",
            "Epoch 95/500\n",
            "5/5 [==============================] - 0s 4ms/step - loss: 1.4423\n",
            "Epoch 96/500\n",
            "5/5 [==============================] - 0s 6ms/step - loss: 1.4313\n",
            "Epoch 97/500\n",
            "5/5 [==============================] - 0s 4ms/step - loss: 1.4233\n",
            "Epoch 98/500\n",
            "5/5 [==============================] - 0s 4ms/step - loss: 1.4125\n",
            "Epoch 99/500\n",
            "5/5 [==============================] - 0s 4ms/step - loss: 1.4036\n",
            "Epoch 100/500\n",
            "5/5 [==============================] - 0s 4ms/step - loss: 1.3937\n",
            "Epoch 101/500\n",
            "5/5 [==============================] - 0s 4ms/step - loss: 1.3861\n",
            "Epoch 102/500\n",
            "5/5 [==============================] - 0s 4ms/step - loss: 1.3763\n",
            "Epoch 103/500\n",
            "5/5 [==============================] - 0s 4ms/step - loss: 1.3665\n",
            "Epoch 104/500\n",
            "5/5 [==============================] - 0s 4ms/step - loss: 1.3577\n",
            "Epoch 105/500\n",
            "5/5 [==============================] - 0s 4ms/step - loss: 1.3486\n",
            "Epoch 106/500\n",
            "5/5 [==============================] - 0s 4ms/step - loss: 1.3400\n",
            "Epoch 107/500\n",
            "5/5 [==============================] - 0s 4ms/step - loss: 1.3318\n",
            "Epoch 108/500\n",
            "5/5 [==============================] - 0s 5ms/step - loss: 1.3225\n",
            "Epoch 109/500\n",
            "5/5 [==============================] - 0s 3ms/step - loss: 1.3146\n",
            "Epoch 110/500\n",
            "5/5 [==============================] - 0s 6ms/step - loss: 1.3071\n",
            "Epoch 111/500\n",
            "5/5 [==============================] - 0s 5ms/step - loss: 1.2988\n",
            "Epoch 112/500\n",
            "5/5 [==============================] - 0s 5ms/step - loss: 1.2903\n",
            "Epoch 113/500\n",
            "5/5 [==============================] - 0s 4ms/step - loss: 1.2830\n",
            "Epoch 114/500\n",
            "5/5 [==============================] - 0s 4ms/step - loss: 1.2752\n",
            "Epoch 115/500\n",
            "5/5 [==============================] - 0s 4ms/step - loss: 1.2669\n",
            "Epoch 116/500\n",
            "5/5 [==============================] - 0s 4ms/step - loss: 1.2591\n",
            "Epoch 117/500\n",
            "5/5 [==============================] - 0s 5ms/step - loss: 1.2518\n",
            "Epoch 118/500\n",
            "5/5 [==============================] - 0s 4ms/step - loss: 1.2445\n",
            "Epoch 119/500\n",
            "5/5 [==============================] - 0s 4ms/step - loss: 1.2370\n",
            "Epoch 120/500\n",
            "5/5 [==============================] - 0s 4ms/step - loss: 1.2298\n",
            "Epoch 121/500\n",
            "5/5 [==============================] - 0s 4ms/step - loss: 1.2222\n",
            "Epoch 122/500\n",
            "5/5 [==============================] - 0s 4ms/step - loss: 1.2158\n",
            "Epoch 123/500\n",
            "5/5 [==============================] - 0s 4ms/step - loss: 1.2084\n",
            "Epoch 124/500\n",
            "5/5 [==============================] - 0s 4ms/step - loss: 1.2014\n",
            "Epoch 125/500\n",
            "5/5 [==============================] - 0s 4ms/step - loss: 1.1942\n",
            "Epoch 126/500\n",
            "5/5 [==============================] - 0s 4ms/step - loss: 1.1875\n",
            "Epoch 127/500\n",
            "5/5 [==============================] - 0s 4ms/step - loss: 1.1809\n",
            "Epoch 128/500\n",
            "5/5 [==============================] - 0s 4ms/step - loss: 1.1747\n",
            "Epoch 129/500\n",
            "5/5 [==============================] - 0s 4ms/step - loss: 1.1677\n",
            "Epoch 130/500\n",
            "5/5 [==============================] - 0s 4ms/step - loss: 1.1615\n",
            "Epoch 131/500\n",
            "5/5 [==============================] - 0s 4ms/step - loss: 1.1549\n",
            "Epoch 132/500\n",
            "5/5 [==============================] - 0s 4ms/step - loss: 1.1486\n",
            "Epoch 133/500\n",
            "5/5 [==============================] - 0s 5ms/step - loss: 1.1426\n",
            "Epoch 134/500\n",
            "5/5 [==============================] - 0s 5ms/step - loss: 1.1361\n",
            "Epoch 135/500\n",
            "5/5 [==============================] - 0s 4ms/step - loss: 1.1299\n",
            "Epoch 136/500\n",
            "5/5 [==============================] - 0s 5ms/step - loss: 1.1226\n",
            "Epoch 137/500\n",
            "5/5 [==============================] - 0s 5ms/step - loss: 1.1175\n",
            "Epoch 138/500\n",
            "5/5 [==============================] - 0s 4ms/step - loss: 1.1117\n",
            "Epoch 139/500\n",
            "5/5 [==============================] - 0s 4ms/step - loss: 1.1054\n",
            "Epoch 140/500\n",
            "5/5 [==============================] - 0s 4ms/step - loss: 1.0992\n",
            "Epoch 141/500\n",
            "5/5 [==============================] - 0s 5ms/step - loss: 1.0937\n",
            "Epoch 142/500\n",
            "5/5 [==============================] - 0s 5ms/step - loss: 1.0882\n",
            "Epoch 143/500\n",
            "5/5 [==============================] - 0s 4ms/step - loss: 1.0820\n",
            "Epoch 144/500\n",
            "5/5 [==============================] - 0s 4ms/step - loss: 1.0765\n",
            "Epoch 145/500\n",
            "5/5 [==============================] - 0s 5ms/step - loss: 1.0709\n",
            "Epoch 146/500\n",
            "5/5 [==============================] - 0s 4ms/step - loss: 1.0654\n",
            "Epoch 147/500\n",
            "5/5 [==============================] - 0s 4ms/step - loss: 1.0603\n",
            "Epoch 148/500\n",
            "5/5 [==============================] - 0s 5ms/step - loss: 1.0550\n",
            "Epoch 149/500\n",
            "5/5 [==============================] - 0s 5ms/step - loss: 1.0494\n",
            "Epoch 150/500\n",
            "5/5 [==============================] - 0s 8ms/step - loss: 1.0446\n",
            "Epoch 151/500\n",
            "5/5 [==============================] - 0s 4ms/step - loss: 1.0397\n",
            "Epoch 152/500\n",
            "5/5 [==============================] - 0s 4ms/step - loss: 1.0349\n",
            "Epoch 153/500\n",
            "5/5 [==============================] - 0s 4ms/step - loss: 1.0295\n",
            "Epoch 154/500\n",
            "5/5 [==============================] - 0s 5ms/step - loss: 1.0246\n",
            "Epoch 155/500\n",
            "5/5 [==============================] - 0s 5ms/step - loss: 1.0199\n",
            "Epoch 156/500\n",
            "5/5 [==============================] - 0s 4ms/step - loss: 1.0158\n",
            "Epoch 157/500\n",
            "5/5 [==============================] - 0s 6ms/step - loss: 1.0099\n",
            "Epoch 158/500\n",
            "5/5 [==============================] - 0s 6ms/step - loss: 1.0068\n",
            "Epoch 159/500\n",
            "5/5 [==============================] - 0s 6ms/step - loss: 1.0008\n",
            "Epoch 160/500\n",
            "5/5 [==============================] - 0s 7ms/step - loss: 0.9970\n",
            "Epoch 161/500\n",
            "5/5 [==============================] - 0s 10ms/step - loss: 0.9921\n",
            "Epoch 162/500\n",
            "5/5 [==============================] - 0s 9ms/step - loss: 0.9877\n",
            "Epoch 163/500\n",
            "5/5 [==============================] - 0s 6ms/step - loss: 0.9827\n",
            "Epoch 164/500\n",
            "5/5 [==============================] - 0s 6ms/step - loss: 0.9796\n",
            "Epoch 165/500\n",
            "5/5 [==============================] - 0s 7ms/step - loss: 0.9743\n",
            "Epoch 166/500\n",
            "5/5 [==============================] - 0s 6ms/step - loss: 0.9702\n",
            "Epoch 167/500\n",
            "5/5 [==============================] - 0s 7ms/step - loss: 0.9656\n",
            "Epoch 168/500\n",
            "5/5 [==============================] - 0s 6ms/step - loss: 0.9611\n",
            "Epoch 169/500\n",
            "5/5 [==============================] - 0s 6ms/step - loss: 0.9573\n",
            "Epoch 170/500\n",
            "5/5 [==============================] - 0s 6ms/step - loss: 0.9536\n",
            "Epoch 171/500\n",
            "5/5 [==============================] - 0s 6ms/step - loss: 0.9486\n",
            "Epoch 172/500\n",
            "5/5 [==============================] - 0s 6ms/step - loss: 0.9447\n",
            "Epoch 173/500\n",
            "5/5 [==============================] - 0s 9ms/step - loss: 0.9413\n",
            "Epoch 174/500\n",
            "5/5 [==============================] - 0s 8ms/step - loss: 0.9369\n",
            "Epoch 175/500\n",
            "5/5 [==============================] - 0s 6ms/step - loss: 0.9330\n",
            "Epoch 176/500\n",
            "5/5 [==============================] - 0s 5ms/step - loss: 0.9307\n",
            "Epoch 177/500\n",
            "5/5 [==============================] - 0s 5ms/step - loss: 0.9256\n",
            "Epoch 178/500\n",
            "5/5 [==============================] - 0s 4ms/step - loss: 0.9225\n",
            "Epoch 179/500\n",
            "5/5 [==============================] - 0s 4ms/step - loss: 0.9183\n",
            "Epoch 180/500\n",
            "5/5 [==============================] - 0s 4ms/step - loss: 0.9147\n",
            "Epoch 181/500\n",
            "5/5 [==============================] - 0s 4ms/step - loss: 0.9118\n",
            "Epoch 182/500\n",
            "5/5 [==============================] - 0s 5ms/step - loss: 0.9077\n",
            "Epoch 183/500\n",
            "5/5 [==============================] - 0s 9ms/step - loss: 0.9046\n",
            "Epoch 184/500\n",
            "5/5 [==============================] - 0s 5ms/step - loss: 0.9010\n",
            "Epoch 185/500\n",
            "5/5 [==============================] - 0s 8ms/step - loss: 0.8977\n",
            "Epoch 186/500\n",
            "5/5 [==============================] - 0s 8ms/step - loss: 0.8935\n",
            "Epoch 187/500\n",
            "5/5 [==============================] - 0s 7ms/step - loss: 0.8908\n",
            "Epoch 188/500\n",
            "5/5 [==============================] - 0s 6ms/step - loss: 0.8873\n",
            "Epoch 189/500\n",
            "5/5 [==============================] - 0s 8ms/step - loss: 0.8840\n",
            "Epoch 190/500\n",
            "5/5 [==============================] - 0s 7ms/step - loss: 0.8808\n",
            "Epoch 191/500\n",
            "5/5 [==============================] - 0s 7ms/step - loss: 0.8778\n",
            "Epoch 192/500\n",
            "5/5 [==============================] - 0s 7ms/step - loss: 0.8753\n",
            "Epoch 193/500\n",
            "5/5 [==============================] - 0s 7ms/step - loss: 0.8719\n",
            "Epoch 194/500\n",
            "5/5 [==============================] - 0s 6ms/step - loss: 0.8687\n",
            "Epoch 195/500\n",
            "5/5 [==============================] - 0s 6ms/step - loss: 0.8670\n",
            "Epoch 196/500\n",
            "5/5 [==============================] - 0s 6ms/step - loss: 0.8632\n",
            "Epoch 197/500\n",
            "5/5 [==============================] - 0s 6ms/step - loss: 0.8603\n",
            "Epoch 198/500\n",
            "5/5 [==============================] - 0s 7ms/step - loss: 0.8575\n",
            "Epoch 199/500\n",
            "5/5 [==============================] - 0s 7ms/step - loss: 0.8546\n",
            "Epoch 200/500\n",
            "5/5 [==============================] - 0s 7ms/step - loss: 0.8518\n",
            "Epoch 201/500\n",
            "5/5 [==============================] - 0s 6ms/step - loss: 0.8484\n",
            "Epoch 202/500\n",
            "5/5 [==============================] - 0s 9ms/step - loss: 0.8460\n",
            "Epoch 203/500\n",
            "5/5 [==============================] - 0s 7ms/step - loss: 0.8440\n",
            "Epoch 204/500\n",
            "5/5 [==============================] - 0s 7ms/step - loss: 0.8413\n",
            "Epoch 205/500\n",
            "5/5 [==============================] - 0s 9ms/step - loss: 0.8382\n",
            "Epoch 206/500\n",
            "5/5 [==============================] - 0s 7ms/step - loss: 0.8353\n",
            "Epoch 207/500\n",
            "5/5 [==============================] - 0s 6ms/step - loss: 0.8326\n",
            "Epoch 208/500\n",
            "5/5 [==============================] - 0s 7ms/step - loss: 0.8297\n",
            "Epoch 209/500\n",
            "5/5 [==============================] - 0s 7ms/step - loss: 0.8271\n",
            "Epoch 210/500\n",
            "5/5 [==============================] - 0s 6ms/step - loss: 0.8254\n",
            "Epoch 211/500\n",
            "5/5 [==============================] - 0s 6ms/step - loss: 0.8234\n",
            "Epoch 212/500\n",
            "5/5 [==============================] - 0s 6ms/step - loss: 0.8204\n",
            "Epoch 213/500\n",
            "5/5 [==============================] - 0s 7ms/step - loss: 0.8177\n",
            "Epoch 214/500\n",
            "5/5 [==============================] - 0s 6ms/step - loss: 0.8147\n",
            "Epoch 215/500\n",
            "5/5 [==============================] - 0s 7ms/step - loss: 0.8127\n",
            "Epoch 216/500\n",
            "5/5 [==============================] - 0s 5ms/step - loss: 0.8097\n",
            "Epoch 217/500\n",
            "5/5 [==============================] - 0s 6ms/step - loss: 0.8082\n",
            "Epoch 218/500\n",
            "5/5 [==============================] - 0s 6ms/step - loss: 0.8058\n",
            "Epoch 219/500\n",
            "5/5 [==============================] - 0s 6ms/step - loss: 0.8032\n",
            "Epoch 220/500\n",
            "5/5 [==============================] - 0s 7ms/step - loss: 0.8007\n",
            "Epoch 221/500\n",
            "5/5 [==============================] - 0s 6ms/step - loss: 0.7982\n",
            "Epoch 222/500\n",
            "5/5 [==============================] - 0s 6ms/step - loss: 0.7966\n",
            "Epoch 223/500\n",
            "5/5 [==============================] - 0s 7ms/step - loss: 0.7949\n",
            "Epoch 224/500\n",
            "5/5 [==============================] - 0s 7ms/step - loss: 0.7913\n",
            "Epoch 225/500\n",
            "5/5 [==============================] - 0s 8ms/step - loss: 0.7891\n",
            "Epoch 226/500\n",
            "5/5 [==============================] - 0s 9ms/step - loss: 0.7875\n",
            "Epoch 227/500\n",
            "5/5 [==============================] - 0s 4ms/step - loss: 0.7849\n",
            "Epoch 228/500\n",
            "5/5 [==============================] - 0s 7ms/step - loss: 0.7832\n",
            "Epoch 229/500\n",
            "5/5 [==============================] - 0s 8ms/step - loss: 0.7804\n",
            "Epoch 230/500\n",
            "5/5 [==============================] - 0s 6ms/step - loss: 0.7785\n",
            "Epoch 231/500\n",
            "5/5 [==============================] - 0s 7ms/step - loss: 0.7767\n",
            "Epoch 232/500\n",
            "5/5 [==============================] - 0s 9ms/step - loss: 0.7756\n",
            "Epoch 233/500\n",
            "5/5 [==============================] - 0s 7ms/step - loss: 0.7727\n",
            "Epoch 234/500\n",
            "5/5 [==============================] - 0s 5ms/step - loss: 0.7702\n",
            "Epoch 235/500\n",
            "5/5 [==============================] - 0s 4ms/step - loss: 0.7680\n",
            "Epoch 236/500\n",
            "5/5 [==============================] - 0s 5ms/step - loss: 0.7666\n",
            "Epoch 237/500\n",
            "5/5 [==============================] - 0s 5ms/step - loss: 0.7645\n",
            "Epoch 238/500\n",
            "5/5 [==============================] - 0s 4ms/step - loss: 0.7624\n",
            "Epoch 239/500\n",
            "5/5 [==============================] - 0s 4ms/step - loss: 0.7606\n",
            "Epoch 240/500\n",
            "5/5 [==============================] - 0s 6ms/step - loss: 0.7587\n",
            "Epoch 241/500\n",
            "5/5 [==============================] - 0s 5ms/step - loss: 0.7561\n",
            "Epoch 242/500\n",
            "5/5 [==============================] - 0s 7ms/step - loss: 0.7550\n",
            "Epoch 243/500\n",
            "5/5 [==============================] - 0s 6ms/step - loss: 0.7528\n",
            "Epoch 244/500\n",
            "5/5 [==============================] - 0s 6ms/step - loss: 0.7515\n",
            "Epoch 245/500\n",
            "5/5 [==============================] - 0s 6ms/step - loss: 0.7498\n",
            "Epoch 246/500\n",
            "5/5 [==============================] - 0s 6ms/step - loss: 0.7476\n",
            "Epoch 247/500\n",
            "5/5 [==============================] - 0s 7ms/step - loss: 0.7467\n",
            "Epoch 248/500\n",
            "5/5 [==============================] - 0s 6ms/step - loss: 0.7449\n",
            "Epoch 249/500\n",
            "5/5 [==============================] - 0s 9ms/step - loss: 0.7427\n",
            "Epoch 250/500\n",
            "5/5 [==============================] - 0s 6ms/step - loss: 0.7415\n",
            "Epoch 251/500\n",
            "5/5 [==============================] - 0s 7ms/step - loss: 0.7387\n",
            "Epoch 252/500\n",
            "5/5 [==============================] - 0s 7ms/step - loss: 0.7371\n",
            "Epoch 253/500\n",
            "5/5 [==============================] - 0s 9ms/step - loss: 0.7361\n",
            "Epoch 254/500\n",
            "5/5 [==============================] - 0s 6ms/step - loss: 0.7340\n",
            "Epoch 255/500\n",
            "5/5 [==============================] - 0s 7ms/step - loss: 0.7322\n",
            "Epoch 256/500\n",
            "5/5 [==============================] - 0s 6ms/step - loss: 0.7300\n",
            "Epoch 257/500\n",
            "5/5 [==============================] - 0s 6ms/step - loss: 0.7281\n",
            "Epoch 258/500\n",
            "5/5 [==============================] - 0s 7ms/step - loss: 0.7266\n",
            "Epoch 259/500\n",
            "5/5 [==============================] - 0s 5ms/step - loss: 0.7246\n",
            "Epoch 260/500\n",
            "5/5 [==============================] - 0s 5ms/step - loss: 0.7226\n",
            "Epoch 261/500\n",
            "5/5 [==============================] - 0s 8ms/step - loss: 0.7207\n",
            "Epoch 262/500\n",
            "5/5 [==============================] - 0s 6ms/step - loss: 0.7193\n",
            "Epoch 263/500\n",
            "5/5 [==============================] - 0s 5ms/step - loss: 0.7174\n",
            "Epoch 264/500\n",
            "5/5 [==============================] - 0s 6ms/step - loss: 0.7151\n",
            "Epoch 265/500\n",
            "5/5 [==============================] - 0s 5ms/step - loss: 0.7145\n",
            "Epoch 266/500\n",
            "5/5 [==============================] - 0s 6ms/step - loss: 0.7122\n",
            "Epoch 267/500\n",
            "5/5 [==============================] - 0s 7ms/step - loss: 0.7097\n",
            "Epoch 268/500\n",
            "5/5 [==============================] - 0s 6ms/step - loss: 0.7091\n",
            "Epoch 269/500\n",
            "5/5 [==============================] - 0s 5ms/step - loss: 0.7077\n",
            "Epoch 270/500\n",
            "5/5 [==============================] - 0s 5ms/step - loss: 0.7059\n",
            "Epoch 271/500\n",
            "5/5 [==============================] - 0s 5ms/step - loss: 0.7042\n",
            "Epoch 272/500\n",
            "5/5 [==============================] - 0s 7ms/step - loss: 0.7025\n",
            "Epoch 273/500\n",
            "5/5 [==============================] - 0s 7ms/step - loss: 0.7012\n",
            "Epoch 274/500\n",
            "5/5 [==============================] - 0s 6ms/step - loss: 0.7002\n",
            "Epoch 275/500\n",
            "5/5 [==============================] - 0s 6ms/step - loss: 0.6994\n",
            "Epoch 276/500\n",
            "5/5 [==============================] - 0s 10ms/step - loss: 0.6966\n",
            "Epoch 277/500\n",
            "5/5 [==============================] - 0s 10ms/step - loss: 0.6956\n",
            "Epoch 278/500\n",
            "5/5 [==============================] - 0s 10ms/step - loss: 0.6943\n",
            "Epoch 279/500\n",
            "5/5 [==============================] - 0s 10ms/step - loss: 0.6933\n",
            "Epoch 280/500\n",
            "5/5 [==============================] - 0s 10ms/step - loss: 0.6919\n",
            "Epoch 281/500\n",
            "5/5 [==============================] - 0s 9ms/step - loss: 0.6907\n",
            "Epoch 282/500\n",
            "5/5 [==============================] - 0s 9ms/step - loss: 0.6890\n",
            "Epoch 283/500\n",
            "5/5 [==============================] - 0s 9ms/step - loss: 0.6872\n",
            "Epoch 284/500\n",
            "5/5 [==============================] - 0s 9ms/step - loss: 0.6854\n",
            "Epoch 285/500\n",
            "5/5 [==============================] - 0s 10ms/step - loss: 0.6854\n",
            "Epoch 286/500\n",
            "5/5 [==============================] - 0s 9ms/step - loss: 0.6828\n",
            "Epoch 287/500\n",
            "5/5 [==============================] - 0s 7ms/step - loss: 0.6819\n",
            "Epoch 288/500\n",
            "5/5 [==============================] - 0s 9ms/step - loss: 0.6816\n",
            "Epoch 289/500\n",
            "5/5 [==============================] - 0s 8ms/step - loss: 0.6787\n",
            "Epoch 290/500\n",
            "5/5 [==============================] - 0s 8ms/step - loss: 0.6793\n",
            "Epoch 291/500\n",
            "5/5 [==============================] - 0s 8ms/step - loss: 0.6764\n",
            "Epoch 292/500\n",
            "5/5 [==============================] - 0s 8ms/step - loss: 0.6768\n",
            "Epoch 293/500\n",
            "5/5 [==============================] - 0s 9ms/step - loss: 0.6734\n",
            "Epoch 294/500\n",
            "5/5 [==============================] - 0s 9ms/step - loss: 0.6732\n",
            "Epoch 295/500\n",
            "5/5 [==============================] - 0s 9ms/step - loss: 0.6719\n",
            "Epoch 296/500\n",
            "5/5 [==============================] - 0s 8ms/step - loss: 0.6697\n",
            "Epoch 297/500\n",
            "5/5 [==============================] - 0s 9ms/step - loss: 0.6686\n",
            "Epoch 298/500\n",
            "5/5 [==============================] - 0s 9ms/step - loss: 0.6678\n",
            "Epoch 299/500\n",
            "5/5 [==============================] - 0s 7ms/step - loss: 0.6664\n",
            "Epoch 300/500\n",
            "5/5 [==============================] - 0s 7ms/step - loss: 0.6654\n",
            "Epoch 301/500\n",
            "5/5 [==============================] - 0s 13ms/step - loss: 0.6639\n",
            "Epoch 302/500\n",
            "5/5 [==============================] - 0s 11ms/step - loss: 0.6631\n",
            "Epoch 303/500\n",
            "5/5 [==============================] - 0s 9ms/step - loss: 0.6614\n",
            "Epoch 304/500\n",
            "5/5 [==============================] - 0s 8ms/step - loss: 0.6610\n",
            "Epoch 305/500\n",
            "5/5 [==============================] - 0s 9ms/step - loss: 0.6591\n",
            "Epoch 306/500\n",
            "5/5 [==============================] - 0s 10ms/step - loss: 0.6587\n",
            "Epoch 307/500\n",
            "5/5 [==============================] - 0s 11ms/step - loss: 0.6569\n",
            "Epoch 308/500\n",
            "5/5 [==============================] - 0s 12ms/step - loss: 0.6565\n",
            "Epoch 309/500\n",
            "5/5 [==============================] - 0s 5ms/step - loss: 0.6552\n",
            "Epoch 310/500\n",
            "5/5 [==============================] - 0s 7ms/step - loss: 0.6540\n",
            "Epoch 311/500\n",
            "5/5 [==============================] - 0s 11ms/step - loss: 0.6530\n",
            "Epoch 312/500\n",
            "5/5 [==============================] - 0s 10ms/step - loss: 0.6526\n",
            "Epoch 313/500\n",
            "5/5 [==============================] - 0s 12ms/step - loss: 0.6521\n",
            "Epoch 314/500\n",
            "5/5 [==============================] - 0s 9ms/step - loss: 0.6496\n",
            "Epoch 315/500\n",
            "5/5 [==============================] - 0s 11ms/step - loss: 0.6487\n",
            "Epoch 316/500\n",
            "5/5 [==============================] - 0s 10ms/step - loss: 0.6472\n",
            "Epoch 317/500\n",
            "5/5 [==============================] - 0s 11ms/step - loss: 0.6464\n",
            "Epoch 318/500\n",
            "5/5 [==============================] - 0s 11ms/step - loss: 0.6457\n",
            "Epoch 319/500\n",
            "5/5 [==============================] - 0s 8ms/step - loss: 0.6449\n",
            "Epoch 320/500\n",
            "5/5 [==============================] - 0s 13ms/step - loss: 0.6435\n",
            "Epoch 321/500\n",
            "5/5 [==============================] - 0s 11ms/step - loss: 0.6427\n",
            "Epoch 322/500\n",
            "5/5 [==============================] - 0s 9ms/step - loss: 0.6422\n",
            "Epoch 323/500\n",
            "5/5 [==============================] - 0s 9ms/step - loss: 0.6411\n",
            "Epoch 324/500\n",
            "5/5 [==============================] - 0s 9ms/step - loss: 0.6403\n",
            "Epoch 325/500\n",
            "5/5 [==============================] - 0s 13ms/step - loss: 0.6393\n",
            "Epoch 326/500\n",
            "5/5 [==============================] - 0s 5ms/step - loss: 0.6381\n",
            "Epoch 327/500\n",
            "5/5 [==============================] - 0s 6ms/step - loss: 0.6369\n",
            "Epoch 328/500\n",
            "5/5 [==============================] - 0s 10ms/step - loss: 0.6358\n",
            "Epoch 329/500\n",
            "5/5 [==============================] - 0s 9ms/step - loss: 0.6348\n",
            "Epoch 330/500\n",
            "5/5 [==============================] - 0s 11ms/step - loss: 0.6347\n",
            "Epoch 331/500\n",
            "5/5 [==============================] - 0s 8ms/step - loss: 0.6334\n",
            "Epoch 332/500\n",
            "5/5 [==============================] - 0s 5ms/step - loss: 0.6325\n",
            "Epoch 333/500\n",
            "5/5 [==============================] - 0s 6ms/step - loss: 0.6317\n",
            "Epoch 334/500\n",
            "5/5 [==============================] - 0s 8ms/step - loss: 0.6303\n",
            "Epoch 335/500\n",
            "5/5 [==============================] - 0s 8ms/step - loss: 0.6300\n",
            "Epoch 336/500\n",
            "5/5 [==============================] - 0s 8ms/step - loss: 0.6290\n",
            "Epoch 337/500\n",
            "5/5 [==============================] - 0s 9ms/step - loss: 0.6279\n",
            "Epoch 338/500\n",
            "5/5 [==============================] - 0s 9ms/step - loss: 0.6264\n",
            "Epoch 339/500\n",
            "5/5 [==============================] - 0s 8ms/step - loss: 0.6263\n",
            "Epoch 340/500\n",
            "5/5 [==============================] - 0s 8ms/step - loss: 0.6255\n",
            "Epoch 341/500\n",
            "5/5 [==============================] - 0s 7ms/step - loss: 0.6247\n",
            "Epoch 342/500\n",
            "5/5 [==============================] - 0s 9ms/step - loss: 0.6235\n",
            "Epoch 343/500\n",
            "5/5 [==============================] - 0s 13ms/step - loss: 0.6227\n",
            "Epoch 344/500\n",
            "5/5 [==============================] - 0s 15ms/step - loss: 0.6216\n",
            "Epoch 345/500\n",
            "5/5 [==============================] - 0s 8ms/step - loss: 0.6210\n",
            "Epoch 346/500\n",
            "5/5 [==============================] - 0s 6ms/step - loss: 0.6200\n",
            "Epoch 347/500\n",
            "5/5 [==============================] - 0s 7ms/step - loss: 0.6191\n",
            "Epoch 348/500\n",
            "5/5 [==============================] - 0s 8ms/step - loss: 0.6192\n",
            "Epoch 349/500\n",
            "5/5 [==============================] - 0s 9ms/step - loss: 0.6184\n",
            "Epoch 350/500\n",
            "5/5 [==============================] - 0s 8ms/step - loss: 0.6168\n",
            "Epoch 351/500\n",
            "5/5 [==============================] - 0s 9ms/step - loss: 0.6159\n",
            "Epoch 352/500\n",
            "5/5 [==============================] - 0s 10ms/step - loss: 0.6155\n",
            "Epoch 353/500\n",
            "5/5 [==============================] - 0s 8ms/step - loss: 0.6142\n",
            "Epoch 354/500\n",
            "5/5 [==============================] - 0s 10ms/step - loss: 0.6136\n",
            "Epoch 355/500\n",
            "5/5 [==============================] - 0s 8ms/step - loss: 0.6129\n",
            "Epoch 356/500\n",
            "5/5 [==============================] - 0s 7ms/step - loss: 0.6118\n",
            "Epoch 357/500\n",
            "5/5 [==============================] - 0s 5ms/step - loss: 0.6116\n",
            "Epoch 358/500\n",
            "5/5 [==============================] - 0s 7ms/step - loss: 0.6111\n",
            "Epoch 359/500\n",
            "5/5 [==============================] - 0s 10ms/step - loss: 0.6094\n",
            "Epoch 360/500\n",
            "5/5 [==============================] - 0s 11ms/step - loss: 0.6093\n",
            "Epoch 361/500\n",
            "5/5 [==============================] - 0s 9ms/step - loss: 0.6090\n",
            "Epoch 362/500\n",
            "5/5 [==============================] - 0s 7ms/step - loss: 0.6077\n",
            "Epoch 363/500\n",
            "5/5 [==============================] - 0s 7ms/step - loss: 0.6075\n",
            "Epoch 364/500\n",
            "5/5 [==============================] - 0s 5ms/step - loss: 0.6067\n",
            "Epoch 365/500\n",
            "5/5 [==============================] - 0s 8ms/step - loss: 0.6057\n",
            "Epoch 366/500\n",
            "5/5 [==============================] - 0s 8ms/step - loss: 0.6063\n",
            "Epoch 367/500\n",
            "5/5 [==============================] - 0s 8ms/step - loss: 0.6041\n",
            "Epoch 368/500\n",
            "5/5 [==============================] - 0s 8ms/step - loss: 0.6056\n",
            "Epoch 369/500\n",
            "5/5 [==============================] - 0s 10ms/step - loss: 0.6036\n",
            "Epoch 370/500\n",
            "5/5 [==============================] - 0s 10ms/step - loss: 0.6025\n",
            "Epoch 371/500\n",
            "5/5 [==============================] - 0s 9ms/step - loss: 0.6017\n",
            "Epoch 372/500\n",
            "5/5 [==============================] - 0s 9ms/step - loss: 0.6013\n",
            "Epoch 373/500\n",
            "5/5 [==============================] - 0s 8ms/step - loss: 0.6000\n",
            "Epoch 374/500\n",
            "5/5 [==============================] - 0s 8ms/step - loss: 0.6000\n",
            "Epoch 375/500\n",
            "5/5 [==============================] - 0s 7ms/step - loss: 0.6001\n",
            "Epoch 376/500\n",
            "5/5 [==============================] - 0s 8ms/step - loss: 0.5989\n",
            "Epoch 377/500\n",
            "5/5 [==============================] - 0s 9ms/step - loss: 0.5973\n",
            "Epoch 378/500\n",
            "5/5 [==============================] - 0s 8ms/step - loss: 0.5975\n",
            "Epoch 379/500\n",
            "5/5 [==============================] - 0s 8ms/step - loss: 0.5969\n",
            "Epoch 380/500\n",
            "5/5 [==============================] - 0s 9ms/step - loss: 0.5959\n",
            "Epoch 381/500\n",
            "5/5 [==============================] - 0s 9ms/step - loss: 0.5952\n",
            "Epoch 382/500\n",
            "5/5 [==============================] - 0s 9ms/step - loss: 0.5947\n",
            "Epoch 383/500\n",
            "5/5 [==============================] - 0s 9ms/step - loss: 0.5941\n",
            "Epoch 384/500\n",
            "5/5 [==============================] - 0s 4ms/step - loss: 0.5932\n",
            "Epoch 385/500\n",
            "5/5 [==============================] - 0s 4ms/step - loss: 0.5923\n",
            "Epoch 386/500\n",
            "5/5 [==============================] - 0s 5ms/step - loss: 0.5919\n",
            "Epoch 387/500\n",
            "5/5 [==============================] - 0s 7ms/step - loss: 0.5912\n",
            "Epoch 388/500\n",
            "5/5 [==============================] - 0s 7ms/step - loss: 0.5905\n",
            "Epoch 389/500\n",
            "5/5 [==============================] - 0s 6ms/step - loss: 0.5903\n",
            "Epoch 390/500\n",
            "5/5 [==============================] - 0s 8ms/step - loss: 0.5901\n",
            "Epoch 391/500\n",
            "5/5 [==============================] - 0s 11ms/step - loss: 0.5892\n",
            "Epoch 392/500\n",
            "5/5 [==============================] - 0s 10ms/step - loss: 0.5889\n",
            "Epoch 393/500\n",
            "5/5 [==============================] - 0s 9ms/step - loss: 0.5878\n",
            "Epoch 394/500\n",
            "5/5 [==============================] - 0s 9ms/step - loss: 0.5875\n",
            "Epoch 395/500\n",
            "5/5 [==============================] - 0s 7ms/step - loss: 0.5865\n",
            "Epoch 396/500\n",
            "5/5 [==============================] - 0s 7ms/step - loss: 0.5862\n",
            "Epoch 397/500\n",
            "5/5 [==============================] - 0s 10ms/step - loss: 0.5859\n",
            "Epoch 398/500\n",
            "5/5 [==============================] - 0s 10ms/step - loss: 0.5847\n",
            "Epoch 399/500\n",
            "5/5 [==============================] - 0s 8ms/step - loss: 0.5845\n",
            "Epoch 400/500\n",
            "5/5 [==============================] - 0s 8ms/step - loss: 0.5836\n",
            "Epoch 401/500\n",
            "5/5 [==============================] - 0s 10ms/step - loss: 0.5832\n",
            "Epoch 402/500\n",
            "5/5 [==============================] - 0s 10ms/step - loss: 0.5822\n",
            "Epoch 403/500\n",
            "5/5 [==============================] - 0s 11ms/step - loss: 0.5833\n",
            "Epoch 404/500\n",
            "5/5 [==============================] - 0s 12ms/step - loss: 0.5817\n",
            "Epoch 405/500\n",
            "5/5 [==============================] - 0s 10ms/step - loss: 0.5807\n",
            "Epoch 406/500\n",
            "5/5 [==============================] - 0s 12ms/step - loss: 0.5806\n",
            "Epoch 407/500\n",
            "5/5 [==============================] - 0s 9ms/step - loss: 0.5801\n",
            "Epoch 408/500\n",
            "5/5 [==============================] - 0s 7ms/step - loss: 0.5793\n",
            "Epoch 409/500\n",
            "5/5 [==============================] - 0s 9ms/step - loss: 0.5789\n",
            "Epoch 410/500\n",
            "5/5 [==============================] - 0s 10ms/step - loss: 0.5775\n",
            "Epoch 411/500\n",
            "5/5 [==============================] - 0s 9ms/step - loss: 0.5771\n",
            "Epoch 412/500\n",
            "5/5 [==============================] - 0s 9ms/step - loss: 0.5767\n",
            "Epoch 413/500\n",
            "5/5 [==============================] - 0s 11ms/step - loss: 0.5761\n",
            "Epoch 414/500\n",
            "5/5 [==============================] - 0s 8ms/step - loss: 0.5756\n",
            "Epoch 415/500\n",
            "5/5 [==============================] - 0s 10ms/step - loss: 0.5748\n",
            "Epoch 416/500\n",
            "5/5 [==============================] - 0s 8ms/step - loss: 0.5741\n",
            "Epoch 417/500\n",
            "5/5 [==============================] - 0s 8ms/step - loss: 0.5732\n",
            "Epoch 418/500\n",
            "5/5 [==============================] - 0s 7ms/step - loss: 0.5727\n",
            "Epoch 419/500\n",
            "5/5 [==============================] - 0s 9ms/step - loss: 0.5722\n",
            "Epoch 420/500\n",
            "5/5 [==============================] - 0s 9ms/step - loss: 0.5717\n",
            "Epoch 421/500\n",
            "5/5 [==============================] - 0s 9ms/step - loss: 0.5708\n",
            "Epoch 422/500\n",
            "5/5 [==============================] - 0s 10ms/step - loss: 0.5709\n",
            "Epoch 423/500\n",
            "5/5 [==============================] - 0s 11ms/step - loss: 0.5697\n",
            "Epoch 424/500\n",
            "5/5 [==============================] - 0s 9ms/step - loss: 0.5702\n",
            "Epoch 425/500\n",
            "5/5 [==============================] - 0s 7ms/step - loss: 0.5697\n",
            "Epoch 426/500\n",
            "5/5 [==============================] - 0s 8ms/step - loss: 0.5705\n",
            "Epoch 427/500\n",
            "5/5 [==============================] - 0s 8ms/step - loss: 0.5678\n",
            "Epoch 428/500\n",
            "5/5 [==============================] - 0s 8ms/step - loss: 0.5681\n",
            "Epoch 429/500\n",
            "5/5 [==============================] - 0s 9ms/step - loss: 0.5681\n",
            "Epoch 430/500\n",
            "5/5 [==============================] - 0s 8ms/step - loss: 0.5668\n",
            "Epoch 431/500\n",
            "5/5 [==============================] - 0s 8ms/step - loss: 0.5679\n",
            "Epoch 432/500\n",
            "5/5 [==============================] - 0s 9ms/step - loss: 0.5667\n",
            "Epoch 433/500\n",
            "5/5 [==============================] - 0s 7ms/step - loss: 0.5656\n",
            "Epoch 434/500\n",
            "5/5 [==============================] - 0s 9ms/step - loss: 0.5654\n",
            "Epoch 435/500\n",
            "5/5 [==============================] - 0s 8ms/step - loss: 0.5645\n",
            "Epoch 436/500\n",
            "5/5 [==============================] - 0s 7ms/step - loss: 0.5641\n",
            "Epoch 437/500\n",
            "5/5 [==============================] - 0s 8ms/step - loss: 0.5637\n",
            "Epoch 438/500\n",
            "5/5 [==============================] - 0s 9ms/step - loss: 0.5634\n",
            "Epoch 439/500\n",
            "5/5 [==============================] - 0s 7ms/step - loss: 0.5626\n",
            "Epoch 440/500\n",
            "5/5 [==============================] - 0s 9ms/step - loss: 0.5619\n",
            "Epoch 441/500\n",
            "5/5 [==============================] - 0s 5ms/step - loss: 0.5615\n",
            "Epoch 442/500\n",
            "5/5 [==============================] - 0s 5ms/step - loss: 0.5621\n",
            "Epoch 443/500\n",
            "5/5 [==============================] - 0s 6ms/step - loss: 0.5603\n",
            "Epoch 444/500\n",
            "5/5 [==============================] - 0s 5ms/step - loss: 0.5608\n",
            "Epoch 445/500\n",
            "5/5 [==============================] - 0s 6ms/step - loss: 0.5607\n",
            "Epoch 446/500\n",
            "5/5 [==============================] - 0s 6ms/step - loss: 0.5599\n",
            "Epoch 447/500\n",
            "5/5 [==============================] - 0s 9ms/step - loss: 0.5603\n",
            "Epoch 448/500\n",
            "5/5 [==============================] - 0s 11ms/step - loss: 0.5591\n",
            "Epoch 449/500\n",
            "5/5 [==============================] - 0s 8ms/step - loss: 0.5594\n",
            "Epoch 450/500\n",
            "5/5 [==============================] - 0s 10ms/step - loss: 0.5589\n",
            "Epoch 451/500\n",
            "5/5 [==============================] - 0s 12ms/step - loss: 0.5575\n",
            "Epoch 452/500\n",
            "5/5 [==============================] - 0s 10ms/step - loss: 0.5571\n",
            "Epoch 453/500\n",
            "5/5 [==============================] - 0s 9ms/step - loss: 0.5569\n",
            "Epoch 454/500\n",
            "5/5 [==============================] - 0s 9ms/step - loss: 0.5570\n",
            "Epoch 455/500\n",
            "5/5 [==============================] - 0s 9ms/step - loss: 0.5563\n",
            "Epoch 456/500\n",
            "5/5 [==============================] - 0s 9ms/step - loss: 0.5568\n",
            "Epoch 457/500\n",
            "5/5 [==============================] - 0s 9ms/step - loss: 0.5558\n",
            "Epoch 458/500\n",
            "5/5 [==============================] - 0s 10ms/step - loss: 0.5557\n",
            "Epoch 459/500\n",
            "5/5 [==============================] - 0s 6ms/step - loss: 0.5548\n",
            "Epoch 460/500\n",
            "5/5 [==============================] - 0s 6ms/step - loss: 0.5544\n",
            "Epoch 461/500\n",
            "5/5 [==============================] - 0s 6ms/step - loss: 0.5545\n",
            "Epoch 462/500\n",
            "5/5 [==============================] - 0s 6ms/step - loss: 0.5537\n",
            "Epoch 463/500\n",
            "5/5 [==============================] - 0s 6ms/step - loss: 0.5532\n",
            "Epoch 464/500\n",
            "5/5 [==============================] - 0s 5ms/step - loss: 0.5532\n",
            "Epoch 465/500\n",
            "5/5 [==============================] - 0s 8ms/step - loss: 0.5527\n",
            "Epoch 466/500\n",
            "5/5 [==============================] - 0s 15ms/step - loss: 0.5524\n",
            "Epoch 467/500\n",
            "5/5 [==============================] - 0s 15ms/step - loss: 0.5516\n",
            "Epoch 468/500\n",
            "5/5 [==============================] - 0s 10ms/step - loss: 0.5517\n",
            "Epoch 469/500\n",
            "5/5 [==============================] - 0s 10ms/step - loss: 0.5519\n",
            "Epoch 470/500\n",
            "5/5 [==============================] - 0s 11ms/step - loss: 0.5512\n",
            "Epoch 471/500\n",
            "5/5 [==============================] - 0s 9ms/step - loss: 0.5513\n",
            "Epoch 472/500\n",
            "5/5 [==============================] - 0s 12ms/step - loss: 0.5510\n",
            "Epoch 473/500\n",
            "5/5 [==============================] - 0s 12ms/step - loss: 0.5498\n",
            "Epoch 474/500\n",
            "5/5 [==============================] - 0s 11ms/step - loss: 0.5496\n",
            "Epoch 475/500\n",
            "5/5 [==============================] - 0s 10ms/step - loss: 0.5497\n",
            "Epoch 476/500\n",
            "5/5 [==============================] - 0s 11ms/step - loss: 0.5489\n",
            "Epoch 477/500\n",
            "5/5 [==============================] - 0s 8ms/step - loss: 0.5487\n",
            "Epoch 478/500\n",
            "5/5 [==============================] - 0s 9ms/step - loss: 0.5484\n",
            "Epoch 479/500\n",
            "5/5 [==============================] - 0s 9ms/step - loss: 0.5482\n",
            "Epoch 480/500\n",
            "5/5 [==============================] - 0s 7ms/step - loss: 0.5481\n",
            "Epoch 481/500\n",
            "5/5 [==============================] - 0s 9ms/step - loss: 0.5476\n",
            "Epoch 482/500\n",
            "5/5 [==============================] - 0s 8ms/step - loss: 0.5476\n",
            "Epoch 483/500\n",
            "5/5 [==============================] - 0s 8ms/step - loss: 0.5467\n",
            "Epoch 484/500\n",
            "5/5 [==============================] - 0s 9ms/step - loss: 0.5462\n",
            "Epoch 485/500\n",
            "5/5 [==============================] - 0s 11ms/step - loss: 0.5468\n",
            "Epoch 486/500\n",
            "5/5 [==============================] - 0s 11ms/step - loss: 0.5457\n",
            "Epoch 487/500\n",
            "5/5 [==============================] - 0s 8ms/step - loss: 0.5463\n",
            "Epoch 488/500\n",
            "5/5 [==============================] - 0s 7ms/step - loss: 0.5457\n",
            "Epoch 489/500\n",
            "5/5 [==============================] - 0s 10ms/step - loss: 0.5458\n",
            "Epoch 490/500\n",
            "5/5 [==============================] - 0s 9ms/step - loss: 0.5445\n",
            "Epoch 491/500\n",
            "5/5 [==============================] - 0s 9ms/step - loss: 0.5446\n",
            "Epoch 492/500\n",
            "5/5 [==============================] - 0s 9ms/step - loss: 0.5450\n",
            "Epoch 493/500\n",
            "5/5 [==============================] - 0s 8ms/step - loss: 0.5440\n",
            "Epoch 494/500\n",
            "5/5 [==============================] - 0s 7ms/step - loss: 0.5436\n",
            "Epoch 495/500\n",
            "5/5 [==============================] - 0s 11ms/step - loss: 0.5434\n",
            "Epoch 496/500\n",
            "5/5 [==============================] - 0s 11ms/step - loss: 0.5429\n",
            "Epoch 497/500\n",
            "5/5 [==============================] - 0s 8ms/step - loss: 0.5426\n",
            "Epoch 498/500\n",
            "5/5 [==============================] - 0s 10ms/step - loss: 0.5425\n",
            "Epoch 499/500\n",
            "5/5 [==============================] - 0s 6ms/step - loss: 0.5424\n",
            "Epoch 500/500\n",
            "5/5 [==============================] - 0s 7ms/step - loss: 0.5419\n"
          ]
        },
        {
          "output_type": "execute_result",
          "data": {
            "text/plain": [
              "<keras.src.callbacks.History at 0x7895ac727bb0>"
            ]
          },
          "metadata": {},
          "execution_count": 49
        }
      ]
    },
    {
      "cell_type": "code",
      "source": [
        "y_pred = model.predict(X_test)\n",
        "y_pred_train = model.predict(X_train)\n",
        "for i in range (len(y_pred)):\n",
        "    if y_pred[i]>0.5:\n",
        "        y_pred[i]=1\n",
        "    else:\n",
        "        y_pred[i]=0\n",
        "for i in range (len(y_pred_train)):\n",
        "    if y_pred_train[i]>0.5:\n",
        "        y_pred_train[i]=1\n",
        "    else:\n",
        "        y_pred_train[i]=0"
      ],
      "metadata": {
        "id": "m1PbtnVY5zOF",
        "outputId": "514dfecc-bb8b-46b9-a204-a48129ab59ba",
        "colab": {
          "base_uri": "https://localhost:8080/"
        }
      },
      "execution_count": 51,
      "outputs": [
        {
          "output_type": "stream",
          "name": "stdout",
          "text": [
            "2/2 [==============================] - 0s 7ms/step\n",
            "5/5 [==============================] - 0s 3ms/step\n"
          ]
        }
      ]
    },
    {
      "cell_type": "markdown",
      "source": [
        "##Calculate the training and testing accuracy"
      ],
      "metadata": {
        "id": "1_0d5DP_HZIm"
      }
    },
    {
      "cell_type": "code",
      "source": [
        "sum_train=0\n",
        "for i in range (len(y_pred_train)):\n",
        "    if (y_pred_train[i]==y_train[i]):\n",
        "        sum_train+=1\n",
        "print(f\"Accuracy of training set is {sum_train/len(y_pred_train)}\")"
      ],
      "metadata": {
        "id": "CfTsl0Em57UM",
        "outputId": "9f4d1dd4-b776-4bff-8b9b-178e6cebd871",
        "colab": {
          "base_uri": "https://localhost:8080/"
        }
      },
      "execution_count": 52,
      "outputs": [
        {
          "output_type": "stream",
          "name": "stdout",
          "text": [
            "Accuracy of training set is 0.8333333333333334\n"
          ]
        }
      ]
    },
    {
      "cell_type": "code",
      "source": [
        "sum_train=0\n",
        "for i in range (len(y_pred)):\n",
        "    if (y_pred[i]==y_test[i]):\n",
        "        sum_train+=1\n",
        "print(f\"Accuracy of testing set is {sum_train/len(y_pred)}\")"
      ],
      "metadata": {
        "id": "kcz8_Biz58Hm",
        "outputId": "e3b70df9-a0c9-45f6-b65e-9b29700a3337",
        "colab": {
          "base_uri": "https://localhost:8080/"
        }
      },
      "execution_count": 53,
      "outputs": [
        {
          "output_type": "stream",
          "name": "stdout",
          "text": [
            "Accuracy of testing set is 0.76\n"
          ]
        }
      ]
    },
    {
      "cell_type": "code",
      "source": [],
      "metadata": {
        "id": "QTLTgSe9KYJ_"
      },
      "execution_count": 55,
      "outputs": []
    },
    {
      "cell_type": "code",
      "source": [],
      "metadata": {
        "id": "n98-Itqn5-8e"
      },
      "execution_count": null,
      "outputs": []
    }
  ],
  "metadata": {
    "kernelspec": {
      "display_name": "Python 3.8.5 ('base')",
      "language": "python",
      "name": "python3"
    },
    "language_info": {
      "codemirror_mode": {
        "name": "ipython",
        "version": 3
      },
      "file_extension": ".py",
      "mimetype": "text/x-python",
      "name": "python",
      "nbconvert_exporter": "python",
      "pygments_lexer": "ipython3",
      "version": "3.8.5"
    },
    "vscode": {
      "interpreter": {
        "hash": "1ef2af15255169531a06c842966204fd31cb89956011d167f4fe0d908cc67114"
      }
    },
    "colab": {
      "provenance": []
    }
  },
  "nbformat": 4,
  "nbformat_minor": 0
}